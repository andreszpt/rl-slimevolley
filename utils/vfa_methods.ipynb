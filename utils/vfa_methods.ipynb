{
 "cells": [
  {
   "cell_type": "markdown",
   "metadata": {},
   "source": [
    "## Use of VFA methods\n",
    "The goal of this notebook is to show if it is possible to use VFA methods in the Slimevolley gym environment."
   ]
  },
  {
   "cell_type": "code",
   "execution_count": 1,
   "metadata": {},
   "outputs": [],
   "source": [
    "from os.path import join\n",
    "import pandas as pd\n",
    "import numpy as np\n",
    "from matplotlib import pyplot as plt\n",
    "from sklearn.cluster import MiniBatchKMeans\n",
    "from sklearn.preprocessing import MinMaxScaler\n",
    "import gym\n",
    "import slimevolleygym\n",
    "from itertools import count, product\n",
    "\n",
    "\n",
    "# Define our input folders and output files\n",
    "DATADIR = join('..', 'data')\n",
    "MODELDIR = join('..', 'models')\n",
    "SAMPLES_FILE = 'sampled_states.csv'\n",
    "CENTROIDS_FILE = 'centroids_10K.csv'"
   ]
  },
  {
   "cell_type": "markdown",
   "metadata": {},
   "source": [
    "We read the file `sampled_states.csv`. This is a database which contains 1M observations of the simulation of the agent playing with the opponent, both using the baseline policy (based on neural net)"
   ]
  },
  {
   "cell_type": "code",
   "execution_count": 2,
   "metadata": {},
   "outputs": [],
   "source": [
    "ss = pd.read_csv(join(DATADIR, SAMPLES_FILE))"
   ]
  },
  {
   "cell_type": "markdown",
   "metadata": {},
   "source": [
    "We create a normalized dataframe `ss_norm`."
   ]
  },
  {
   "cell_type": "code",
   "execution_count": 3,
   "metadata": {},
   "outputs": [],
   "source": [
    "scaler = MinMaxScaler()\n",
    "ss_norm = scaler.fit_transform(ss)\n",
    "ss_norm = pd.DataFrame(ss_norm, columns=['x_agent', 'y_agent', 'xdot_agent', 'ydot_agent',\n",
    "                                         'x_ball', 'y_ball', 'xdot_ball', 'ydot_ball', 'x_opponent',\n",
    "                                         'y_opponent', 'xdot_opponent', 'ydot_opponent'])            "
   ]
  },
  {
   "cell_type": "markdown",
   "metadata": {},
   "source": [
    "We create a `MiniBatchKMeans` estimator with 10K clusters and a batch size of 2048 and fit it with our normalized sampled states dataframe. The purpose of this is to reduce the information of our sampled states in 10K clusters, which will be the centroids of the RBF used in the next cells."
   ]
  },
  {
   "cell_type": "code",
   "execution_count": 4,
   "metadata": {},
   "outputs": [],
   "source": [
    "# mbkm_model = MiniBatchKMeans(n_clusters=10_000, random_state=0, batch_size=2048, verbose=True)\n",
    "# mbkm_model.fit(ss_norm)  # 1M samples, around 5m 30s with current setup"
   ]
  },
  {
   "cell_type": "markdown",
   "metadata": {},
   "source": [
    "We save the `cluster_centers_` from our `mbkm_model`in a file called `centroids_10K.csv`. This step is done so that we do not need to execute the clustering algorithm every time we want to use the centroids."
   ]
  },
  {
   "cell_type": "code",
   "execution_count": 5,
   "metadata": {},
   "outputs": [],
   "source": [
    "# head = 'x_agent,y_agent,xdot_agent,ydot_agent,' \\\n",
    "#         'x_ball,y_ball,xdot_ball,ydot_ball,' \\\n",
    "#         'x_opponent,y_opponent,xdot_opponent,ydot_opponent'\n",
    "        \n",
    "# np.savetxt(fname=join(DATADIR, CENTROIDS_FILE),\n",
    "#         X=mbkm_model.cluster_centers_,\n",
    "#         fmt='%.5f',\n",
    "#         delimiter=',',\n",
    "#         header=head,\n",
    "#         comments='')"
   ]
  },
  {
   "cell_type": "markdown",
   "metadata": {},
   "source": [
    "We save the information of the centroids from our file in a dataframe called `centroids`. The shape of this dataframe will be 10K rows (number of clusters selected in our algorithm) by 12 columns (number of dimensions of the states of our environment)."
   ]
  },
  {
   "cell_type": "code",
   "execution_count": 6,
   "metadata": {},
   "outputs": [],
   "source": [
    "centroids = pd.read_csv(join(DATADIR, CENTROIDS_FILE))"
   ]
  },
  {
   "cell_type": "markdown",
   "metadata": {},
   "source": [
    "We create the definition of the function for the feature vector, which is encapsulated in a Featurizer class."
   ]
  },
  {
   "cell_type": "code",
   "execution_count": 7,
   "metadata": {},
   "outputs": [
    {
     "data": {
      "text/plain": [
       "array([0.29 , 0.012, 0.02 , ..., 0.005, 0.075, 0.006])"
      ]
     },
     "execution_count": 7,
     "metadata": {},
     "output_type": "execute_result"
    }
   ],
   "source": [
    "class Featurizer:\n",
    "    def __init__(self, observation_space, centroids, sigma=0.5):\n",
    "        self.n_dim = len(observation_space.low)\n",
    "        self.centroids = np.array(centroids)     \n",
    "        self.sigma = sigma\n",
    "        self.n_parameters = len(self.centroids)\n",
    "    def feature_vector(self, s):\n",
    "        dist = (self.centroids - np.array(s))**2\n",
    "        x = np.exp(-dist.sum(axis=1)/(2*self.sigma**2))\n",
    "        return x\n",
    "\n",
    "# Example for normalized state [0]\n",
    "slime_env = gym.make('SlimeVolley-v0')\n",
    "featurizer = Featurizer(slime_env.observation_space, centroids)\n",
    "x = featurizer.feature_vector(ss_norm.iloc[0, :])\n",
    "x"
   ]
  },
  {
   "cell_type": "code",
   "execution_count": 8,
   "metadata": {},
   "outputs": [],
   "source": [
    "class ValueFunction:\n",
    "    def __init__(self, featurizer, n_actions):\n",
    "        self.n_actions = n_actions\n",
    "        n_parameters = featurizer.n_parameters\n",
    "        self.parameters = np.zeros((n_actions, n_parameters), dtype=np.float_) \n",
    "        self.featurizer = featurizer\n",
    "        \n",
    "        # estimar el valor de un estado y una acción dados\n",
    "    def value(self, observation, action):\n",
    "        features = self.featurizer.feature_vector(observation)\n",
    "        return features.dot(self.parameters[action,:])\n",
    "\n",
    "        # actualiza con state, action y target\n",
    "    def update(self, observation, action, target, alpha):\n",
    "        features = self.featurizer.feature_vector(observation)\n",
    "        estimation = features.dot(self.parameters[action,:])\n",
    "        delta = alpha * (target - estimation)*features\n",
    "        self.parameters[action,:] = self.parameters[action,:] + delta\n",
    "        \n",
    "def get_action(observation, q_value_function, epsilon = 0.0):\n",
    "    n_actions = q_value_function.n_actions\n",
    "    if np.random.binomial(1, epsilon) == 1:\n",
    "        return np.random.randint(n_actions)\n",
    "    values = []\n",
    "    for action in range(n_actions):\n",
    "        values.append(q_value_function.value(observation, action))\n",
    "    return np.random.choice([action_ for action_, value_ in enumerate(values) if value_ == np.max(values)])\n",
    "\n",
    "def semi_gradient_sarsa(env, q, episodes, gamma = 1.0, epsilon = 0.1, alpha = 0.1):\n",
    "    history = np.zeros(episodes)\n",
    "    history_average = np.zeros(episodes)\n",
    "    for episode in range(episodes):\n",
    "        if (episode+1) % 100 == 0 and episode > 0:\n",
    "            mean_G = history_average[episode-1]\n",
    "            print('episodio {}: alfa = {}, epsilon = {}, retorno medio = {}'.format(episode+1, alpha, epsilon, mean_G))\n",
    "        G = 0 # retorno inicial del episodio\n",
    "        S = env.reset()\n",
    "        A = get_action(S, q, epsilon) # accion dada por epsilon greedy respecto a q\n",
    "        for t in count():\n",
    "            S_next, reward, done, _ = env.step(A)\n",
    "            G += reward\n",
    "            A_next = get_action(S_next, q, epsilon)\n",
    "            if done:\n",
    "                target = reward\n",
    "                q.update(S, A, target, alpha)\n",
    "                break \n",
    "            target = reward + gamma * q.value(S_next, A_next)\n",
    "            q.update(S, A, target, alpha)\n",
    "            A = A_next\n",
    "            S = S_next        \n",
    "        history[episode] = G\n",
    "        history_average[episode] = np.mean(history[0:episode+1])        \n",
    "    return q, history, history_average"
   ]
  },
  {
   "cell_type": "code",
   "execution_count": 9,
   "metadata": {},
   "outputs": [
    {
     "name": "stdout",
     "output_type": "stream",
     "text": [
      "episodio 100: alfa = 0.1, epsilon = 0.1, retorno medio = -4.878787878787879\n",
      "episodio 200: alfa = 0.1, epsilon = 0.1, retorno medio = -4.85929648241206\n",
      "episodio 300: alfa = 0.1, epsilon = 0.1, retorno medio = -4.846153846153846\n",
      "episodio 400: alfa = 0.1, epsilon = 0.1, retorno medio = -4.857142857142857\n",
      "episodio 500: alfa = 0.1, epsilon = 0.1, retorno medio = -4.865731462925852\n",
      "episodio 600: alfa = 0.1, epsilon = 0.1, retorno medio = -4.874791318864775\n",
      "episodio 700: alfa = 0.1, epsilon = 0.1, retorno medio = -4.86552217453505\n",
      "episodio 800: alfa = 0.1, epsilon = 0.1, retorno medio = -4.863579474342929\n",
      "episodio 900: alfa = 0.1, epsilon = 0.1, retorno medio = -4.863181312569521\n",
      "episodio 1000: alfa = 0.1, epsilon = 0.1, retorno medio = -4.862862862862863\n"
     ]
    }
   ],
   "source": [
    "slime_env = gym.make('SlimeVolley-v0')\n",
    "featurizer = Featurizer(slime_env.observation_space, centroids)\n",
    "q = ValueFunction(featurizer, slime_env.action_space.n)\n",
    "slime_q, slime_history, slime_history_average = semi_gradient_sarsa(slime_env, q, 1000) # alpha and epsilon values by default"
   ]
  },
  {
   "cell_type": "code",
   "execution_count": 10,
   "metadata": {},
   "outputs": [
    {
     "data": {
      "image/png": "[encoded data removed]",
      "text/plain": [
       "<Figure size 432x288 with 1 Axes>"
      ]
     },
     "metadata": {
      "needs_background": "light"
     },
     "output_type": "display_data"
    }
   ],
   "source": [
    "ax = plt.subplot(111)\n",
    "plt.plot(slime_history, label=\"retorno del episodio\")\n",
    "plt.plot(slime_history_average, label=\"retorno medio por episodio\")\n",
    "plt.ylabel('Retorno completo', size=10)\n",
    "ax.legend(loc='lower right')\n",
    "plt.grid()\n",
    "plt.show()"
   ]
  },
  {
   "cell_type": "code",
   "execution_count": 11,
   "metadata": {},
   "outputs": [],
   "source": [
    "def semi_gradient_n_step_sarsa(env, q, episodes, n=1, gamma = 1.0, epsilon = 0.1, alpha = 0.1):\n",
    "    history = np.zeros(episodes)\n",
    "    history_average = np.zeros(episodes)\n",
    "    for episode in range(episodes):\n",
    "        if (episode+1) % 100 == 0 and episode > 0:\n",
    "            mean_G = history_average[episode-1]\n",
    "            print('episodio {}: alfa = {}, epsilon = {}, retorno medio = {}'.format(episode+1, alpha, epsilon, mean_G))\n",
    "        G = 0\n",
    "        S = env.reset()\n",
    "        A = get_action(S, q, epsilon)\n",
    "        observations, actions, rewards = {}, {}, {}\n",
    "        observations[0] = S\n",
    "        actions[0] = A\n",
    "        rewards[0] = 0.0\n",
    "        T = float('inf') \n",
    "        for t in count():\n",
    "            if t < T:\n",
    "                S_next, R, done, _ = env.step(A)\n",
    "                observations[t+1] = S_next\n",
    "                rewards[t+1] = R\n",
    "                if done:\n",
    "                    T = t+1\n",
    "                else:\n",
    "                    A_next = get_action(S_next, q, epsilon)\n",
    "                    actions[t+1] = A_next\n",
    "                G += R\n",
    "            tau = t - n + 1\n",
    "            if tau >= 0:\n",
    "                target = 0.0\n",
    "                for i in range(tau+1, min(tau+n,T)):\n",
    "                    target += gamma**(i-tau-1) * rewards[i]\n",
    "                if tau + n < T:\n",
    "                    target += gamma**n * q.value(observations[tau + n], actions[tau + n])\n",
    "                q.update(observations[tau], actions[tau], target, alpha)\n",
    "                del observations[tau]\n",
    "                del actions[tau]\n",
    "                del rewards[tau]\n",
    "            if tau == T-1:\n",
    "                break\n",
    "            A = A_next       \n",
    "        history[episode] = G\n",
    "        history_average[episode] = np.mean(history[0:episode+1])        \n",
    "    return q, history, history_average"
   ]
  },
  {
   "cell_type": "code",
   "execution_count": 12,
   "metadata": {},
   "outputs": [
    {
     "name": "stdout",
     "output_type": "stream",
     "text": [
      "episodio 100: alfa = 0.05, epsilon = 0.1, retorno medio = -4.878787878787879\n",
      "episodio 200: alfa = 0.05, epsilon = 0.1, retorno medio = -4.899497487437186\n",
      "episodio 300: alfa = 0.05, epsilon = 0.1, retorno medio = -4.889632107023411\n",
      "episodio 400: alfa = 0.05, epsilon = 0.1, retorno medio = -4.8922305764411025\n",
      "episodio 500: alfa = 0.05, epsilon = 0.1, retorno medio = -4.889779559118236\n",
      "episodio 600: alfa = 0.05, epsilon = 0.1, retorno medio = -4.893155258764608\n",
      "episodio 700: alfa = 0.05, epsilon = 0.1, retorno medio = -4.898426323319027\n",
      "episodio 800: alfa = 0.05, epsilon = 0.1, retorno medio = -4.889862327909888\n",
      "episodio 900: alfa = 0.05, epsilon = 0.1, retorno medio = -4.885428253615128\n",
      "episodio 1000: alfa = 0.05, epsilon = 0.1, retorno medio = -4.887887887887888\n"
     ]
    }
   ],
   "source": [
    "slime_q, slime_history, slime_history_average = semi_gradient_n_step_sarsa(\n",
    "    slime_env, q, 1000, n = 4, alpha=0.05)"
   ]
  },
  {
   "cell_type": "code",
   "execution_count": 13,
   "metadata": {},
   "outputs": [
    {
     "data": {
      "image/png": "[encoded data removed]",
      "text/plain": [
       "<Figure size 432x288 with 1 Axes>"
      ]
     },
     "metadata": {
      "needs_background": "light"
     },
     "output_type": "display_data"
    }
   ],
   "source": [
    "ax = plt.subplot(111)\n",
    "plt.plot(slime_history, label=\"retorno del episodio\")\n",
    "plt.plot(slime_history_average, label=\"retorno medio por episodio\")\n",
    "plt.ylabel('Retorno completo', size=10)\n",
    "ax.legend(loc='lower right')\n",
    "plt.grid()\n",
    "plt.show()"
   ]
  }
 ],
 "metadata": {
  "interpreter": {
   "hash": "6de933cdbeffafdc58b9d7102d87d9f2f2cbbd5b3fcee181d2b6dc29b80774eb"
  },
  "kernelspec": {
   "display_name": "Python 3.9.7 ('rl')",
   "language": "python",
   "name": "python3"
  },
  "language_info": {
   "codemirror_mode": {
    "name": "ipython",
    "version": 3
   },
   "file_extension": ".py",
   "mimetype": "text/x-python",
   "name": "python",
   "nbconvert_exporter": "python",
   "pygments_lexer": "ipython3",
   "version": "3.9.7"
  },
  "orig_nbformat": 4
 },
 "nbformat": 4,
 "nbformat_minor": 2
}
