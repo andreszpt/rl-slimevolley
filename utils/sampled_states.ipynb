{
 "cells": [
  {
   "cell_type": "code",
   "execution_count": 7,
   "metadata": {},
   "outputs": [],
   "source": [
    "from os.path import join\n",
    "import pandas as pd\n",
    "from matplotlib import pyplot as plt"
   ]
  },
  {
   "cell_type": "code",
   "execution_count": 8,
   "metadata": {},
   "outputs": [],
   "source": [
    "DATADIR = join('..', 'data')\n",
    "SAMPLES_FILE = 'sampled_states.csv'"
   ]
  },
  {
   "cell_type": "code",
   "execution_count": 9,
   "metadata": {},
   "outputs": [],
   "source": [
    "sampled_states = pd.read_csv(join(DATADIR, SAMPLES_FILE))"
   ]
  },
  {
   "cell_type": "code",
   "execution_count": 10,
   "metadata": {},
   "outputs": [
    {
     "data": {
      "image/png": "[encoded data removed]",
      "text/plain": [
       "<Figure size 432x288 with 1 Axes>"
      ]
     },
     "metadata": {
      "needs_background": "light"
     },
     "output_type": "display_data"
    }
   ],
   "source": [
    "agent_x_pos = sampled_states.iloc[:, 0]\n",
    "agent_y_pos = sampled_states.iloc[:, 1]\n",
    "agent_x_sp = sampled_states.iloc[:, 2]\n",
    "agent_y_sp = sampled_states.iloc[:, 3]\n",
    "\n",
    "fig = plt.figure()\n",
    "ax = plt.axes()\n",
    "ax.scatter(agent_x_pos, agent_y_pos, c='g', s=1)\n",
    "ax.scatter(agent_x_sp, agent_y_sp, c='r', s=1)\n",
    "plt.show()"
   ]
  }
 ],
 "metadata": {
  "interpreter": {
   "hash": "174a68ee4c0eddbbcc57a21f70f48ff275b52c49f4f0e71d5565dde732c1a6fe"
  },
  "kernelspec": {
   "display_name": "Python 3.9.7 ('rl')",
   "language": "python",
   "name": "python3"
  },
  "language_info": {
   "codemirror_mode": {
    "name": "ipython",
    "version": 3
   },
   "file_extension": ".py",
   "mimetype": "text/x-python",
   "name": "python",
   "nbconvert_exporter": "python",
   "pygments_lexer": "ipython3",
   "version": "3.9.7"
  },
  "orig_nbformat": 4
 },
 "nbformat": 4,
 "nbformat_minor": 2
}
