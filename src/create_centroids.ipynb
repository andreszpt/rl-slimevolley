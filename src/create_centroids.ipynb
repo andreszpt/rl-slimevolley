{
 "cells": [
  {
   "cell_type": "markdown",
   "metadata": {},
   "source": [
    "### Centroid creation\n",
    "The goal of this notebook is to create 3 csv files (`c_10.csv`, `c_25.csv`, `c_25.csv`) which contains the centroids of our sampled states. In particular, these centroids will be calculated based on the following raw data:\n",
    "- 10% (100K rows) of random sampled data.\n",
    "- 90% (900K rows) of sampled data using baseline policy."
   ]
  },
  {
   "cell_type": "code",
   "execution_count": 3,
   "metadata": {},
   "outputs": [],
   "source": [
    "from os.path import join\n",
    "import pandas as pd\n",
    "import numpy as np\n",
    "from sklearn.cluster import MiniBatchKMeans\n",
    "\n",
    "\n",
    "# Define our input folders and output files\n",
    "DATADIR = join('..', 'data')"
   ]
  },
  {
   "cell_type": "markdown",
   "metadata": {},
   "source": [
    "We read the files `ss_bsln_900k.csv` and `ss_random_100k.csv`. This is a database which contains 100K and 900K observations of the simulation of the agent playing with the opponent, using a random and baseline policy, respectively. "
   ]
  },
  {
   "cell_type": "code",
   "execution_count": 4,
   "metadata": {},
   "outputs": [],
   "source": [
    "ss_bsln = pd.read_csv(join(DATADIR, 'ss_bsln_900k.csv')).iloc[:, :8]\n",
    "ss_random = pd.read_csv(join(DATADIR, 'ss_random_100k.csv')).iloc[:, :8]"
   ]
  },
  {
   "cell_type": "markdown",
   "metadata": {},
   "source": [
    "We concat our dataframes which include both random and baseline samples and shuffle them. We also convert it to a numpy array."
   ]
  },
  {
   "cell_type": "code",
   "execution_count": 5,
   "metadata": {},
   "outputs": [],
   "source": [
    "ss = pd.concat([ss_bsln, ss_random], ignore_index=True).sample(frac=1).to_numpy()"
   ]
  },
  {
   "cell_type": "markdown",
   "metadata": {},
   "source": [
    "We create 3 `MiniBatchKMeans` estimators with 5K, 10K and 25K clusters and a batch size of 2048 and fit it with our normalized sampled states dataframe. The purpose of this is to reduce the information of our sampled states in a number clusters, which will be the centroids of the RBF used in the next cells."
   ]
  },
  {
   "cell_type": "code",
   "execution_count": null,
   "metadata": {},
   "outputs": [],
   "source": [
    "mbkm_model_5 = MiniBatchKMeans(n_clusters=5_000, random_state=0, batch_size=2048, verbose=True)\n",
    "mbkm_model_5.fit(ss)      # 2min"
   ]
  },
  {
   "cell_type": "code",
   "execution_count": null,
   "metadata": {},
   "outputs": [],
   "source": [
    "mbkm_model_10 = MiniBatchKMeans(n_clusters=10_000, random_state=0, batch_size=2048, verbose=True)\n",
    "mbkm_model_10.fit(ss)      # 4min"
   ]
  },
  {
   "cell_type": "code",
   "execution_count": null,
   "metadata": {},
   "outputs": [],
   "source": [
    "mbkm_model_25 = MiniBatchKMeans(n_clusters=25_000, random_state=0, batch_size=2048, verbose=True)\n",
    "mbkm_model_25.fit(ss)   # 21min"
   ]
  },
  {
   "cell_type": "markdown",
   "metadata": {},
   "source": [
    "We save the information of the centroids from our files in a dataframe called `c_XX_mix`. The shape of this dataframe will be 5K, 10K or 25K (depending on the number of clusters selected in our algorithm) by 8 columns (number of dimensions of the states of our environment excluding the information of the opponent)."
   ]
  },
  {
   "cell_type": "code",
   "execution_count": 1,
   "metadata": {},
   "outputs": [
    {
     "ename": "NameError",
     "evalue": "name 'mbkm_model_5' is not defined",
     "output_type": "error",
     "traceback": [
      "\u001b[1;31m---------------------------------------------------------------------------\u001b[0m",
      "\u001b[1;31mNameError\u001b[0m                                 Traceback (most recent call last)",
      "\u001b[1;32mc:\\Users\\Andres\\Python\\rl\\src\\create_centroids.ipynb Cell 12'\u001b[0m in \u001b[0;36m<cell line: 11>\u001b[1;34m()\u001b[0m\n\u001b[0;32m      <a href='vscode-notebook-cell:/c%3A/Users/Andres/Python/rl/src/create_centroids.ipynb#ch0000011?line=1'>2</a>\u001b[0m     head \u001b[39m=\u001b[39m \u001b[39m'\u001b[39m\u001b[39mx_agent,y_agent,xdot_agent,ydot_agent,\u001b[39m\u001b[39m'\u001b[39m \\\n\u001b[0;32m      <a href='vscode-notebook-cell:/c%3A/Users/Andres/Python/rl/src/create_centroids.ipynb#ch0000011?line=2'>3</a>\u001b[0m         \u001b[39m'\u001b[39m\u001b[39mx_ball,y_ball,xdot_ball,ydot_ball\u001b[39m\u001b[39m'\u001b[39m       \n\u001b[0;32m      <a href='vscode-notebook-cell:/c%3A/Users/Andres/Python/rl/src/create_centroids.ipynb#ch0000011?line=3'>4</a>\u001b[0m     np\u001b[39m.\u001b[39msavetxt(fname\u001b[39m=\u001b[39mjoin(DATADIR, name),\n\u001b[0;32m      <a href='vscode-notebook-cell:/c%3A/Users/Andres/Python/rl/src/create_centroids.ipynb#ch0000011?line=4'>5</a>\u001b[0m         X\u001b[39m=\u001b[39mmodel\u001b[39m.\u001b[39mcluster_centers_,\n\u001b[0;32m      <a href='vscode-notebook-cell:/c%3A/Users/Andres/Python/rl/src/create_centroids.ipynb#ch0000011?line=5'>6</a>\u001b[0m         fmt\u001b[39m=\u001b[39m\u001b[39m'\u001b[39m\u001b[39m%.5f\u001b[39;00m\u001b[39m'\u001b[39m,\n\u001b[0;32m      <a href='vscode-notebook-cell:/c%3A/Users/Andres/Python/rl/src/create_centroids.ipynb#ch0000011?line=6'>7</a>\u001b[0m         delimiter\u001b[39m=\u001b[39m\u001b[39m'\u001b[39m\u001b[39m,\u001b[39m\u001b[39m'\u001b[39m,\n\u001b[0;32m      <a href='vscode-notebook-cell:/c%3A/Users/Andres/Python/rl/src/create_centroids.ipynb#ch0000011?line=7'>8</a>\u001b[0m         header\u001b[39m=\u001b[39mhead,\n\u001b[0;32m      <a href='vscode-notebook-cell:/c%3A/Users/Andres/Python/rl/src/create_centroids.ipynb#ch0000011?line=8'>9</a>\u001b[0m         comments\u001b[39m=\u001b[39m\u001b[39m'\u001b[39m\u001b[39m'\u001b[39m)\n\u001b[1;32m---> <a href='vscode-notebook-cell:/c%3A/Users/Andres/Python/rl/src/create_centroids.ipynb#ch0000011?line=10'>11</a>\u001b[0m save_centroids_file(mbkm_model_5, \u001b[39m\"\u001b[39m\u001b[39mc_5_mix.csv\u001b[39m\u001b[39m\"\u001b[39m)\n\u001b[0;32m     <a href='vscode-notebook-cell:/c%3A/Users/Andres/Python/rl/src/create_centroids.ipynb#ch0000011?line=11'>12</a>\u001b[0m save_centroids_file(mbkm_model_10, \u001b[39m\"\u001b[39m\u001b[39mc_10_mix.csv\u001b[39m\u001b[39m\"\u001b[39m)\n\u001b[0;32m     <a href='vscode-notebook-cell:/c%3A/Users/Andres/Python/rl/src/create_centroids.ipynb#ch0000011?line=12'>13</a>\u001b[0m save_centroids_file(mbkm_model_25, \u001b[39m\"\u001b[39m\u001b[39mc_25_mix.csv\u001b[39m\u001b[39m\"\u001b[39m)\n",
      "\u001b[1;31mNameError\u001b[0m: name 'mbkm_model_5' is not defined"
     ]
    }
   ],
   "source": [
    "def save_centroids_file(model, name):\n",
    "    head = 'x_agent,y_agent,xdot_agent,ydot_agent,' \\\n",
    "        'x_ball,y_ball,xdot_ball,ydot_ball'       \n",
    "    np.savetxt(fname=join(DATADIR, name),\n",
    "        X=model.cluster_centers_,\n",
    "        fmt='%.5f',\n",
    "        delimiter=',',\n",
    "        header=head,\n",
    "        comments='')\n",
    "\n",
    "save_centroids_file(mbkm_model_5, \"c_5_mix.csv\")\n",
    "save_centroids_file(mbkm_model_10, \"c_10_mix.csv\")\n",
    "save_centroids_file(mbkm_model_25, \"c_25_mix.csv\")\n"
   ]
  }
 ],
 "metadata": {
  "kernelspec": {
   "display_name": "Python 3.9.12 ('rl-slime')",
   "language": "python",
   "name": "python3"
  },
  "language_info": {
   "codemirror_mode": {
    "name": "ipython",
    "version": 3
   },
   "file_extension": ".py",
   "mimetype": "text/x-python",
   "name": "python",
   "nbconvert_exporter": "python",
   "pygments_lexer": "ipython3",
   "version": "3.9.12"
  },
  "orig_nbformat": 4,
  "vscode": {
   "interpreter": {
    "hash": "e355603bb3e395214415bfdd74d2a1c6c523d6c3b6e1d1b2f026a30bb4e7271c"
   }
  }
 },
 "nbformat": 4,
 "nbformat_minor": 2
}
