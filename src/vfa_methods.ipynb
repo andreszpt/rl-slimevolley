{
 "cells": [
  {
   "cell_type": "markdown",
   "metadata": {},
   "source": [
    "## Use of VFA methods\n",
    "The goal of this notebook is to show if it is possible to use VFA methods in the Slimevolley gym environment."
   ]
  },
  {
   "cell_type": "code",
   "execution_count": 1,
   "metadata": {},
   "outputs": [],
   "source": [
    "from os.path import join\n",
    "from slime import Slime\n",
    "import pandas as pd\n",
    "import numpy as np\n",
    "import gym\n",
    "import slimevolleygym\n",
    "from algorithms import *\n",
    "\n",
    "# Define our input folders and output files\n",
    "DATADIR = join('..', 'data')"
   ]
  },
  {
   "cell_type": "markdown",
   "metadata": {},
   "source": [
    "We get the csv file in which we saved the information of our centroids. In this case, we will use the 50K file."
   ]
  },
  {
   "cell_type": "code",
   "execution_count": 2,
   "metadata": {},
   "outputs": [],
   "source": [
    "centroids = pd.read_csv(join(DATADIR, 'c_50_mix.csv'))"
   ]
  },
  {
   "cell_type": "markdown",
   "metadata": {},
   "source": [
    "We create the definition of the function for the feature vector, which is encapsulated in a Featurizer class."
   ]
  },
  {
   "cell_type": "code",
   "execution_count": 3,
   "metadata": {},
   "outputs": [],
   "source": [
    "slime_env = gym.make('SlimeVolley-v0')"
   ]
  },
  {
   "cell_type": "code",
   "execution_count": 4,
   "metadata": {},
   "outputs": [],
   "source": [
    "featurizer = Featurizer(slime_env.observation_space, np.array(centroids))"
   ]
  },
  {
   "cell_type": "markdown",
   "metadata": {},
   "source": [
    "### 50K centroids"
   ]
  },
  {
   "cell_type": "code",
   "execution_count": null,
   "metadata": {},
   "outputs": [],
   "source": [
    "q = LambdaValueFunction(featurizer, slime_env.action_space.n, 0.5)\n",
    "slime_q, slime_history, slime_history_average = sarsa_lambda(slime_env, q, 20000, 1_000_000, epsilon = 0.01) # alpha and epsilon values by default"
   ]
  },
  {
   "cell_type": "code",
   "execution_count": null,
   "metadata": {},
   "outputs": [],
   "source": [
    "plot_history(slime_history, slime_history_average)"
   ]
  },
  {
   "cell_type": "code",
   "execution_count": null,
   "metadata": {},
   "outputs": [],
   "source": [
    "alpha = 0.001\n",
    "beta = 0.005\n",
    "v = ValueFunctionRB(featurizer)\n",
    "pi = PolicyEstimator(featurizer, slime_env.action_space.n)\n",
    "slime_pi, slime_history_b, slime_average_history_b = reinforce_baseline(slime_env, pi, v, 20000, 1_000_000,\n",
    "                                                                         alpha, beta, gamma = 0.98)"
   ]
  },
  {
   "cell_type": "code",
   "execution_count": null,
   "metadata": {},
   "outputs": [],
   "source": [
    "plot_history(slime_history_b, slime_average_history_b)"
   ]
  },
  {
   "cell_type": "code",
   "execution_count": null,
   "metadata": {},
   "outputs": [],
   "source": [
    "env = gym.make('SlimeVolley-v0')\n",
    "S = env.reset()\n",
    "G = 0     \n",
    "while True:\n",
    "    action = slime_pi[S]\n",
    "    obs, reward, done, info = env.step(action)\n",
    "    env.render()"
   ]
  }
 ],
 "metadata": {
  "interpreter": {
   "hash": "6de933cdbeffafdc58b9d7102d87d9f2f2cbbd5b3fcee181d2b6dc29b80774eb"
  },
  "kernelspec": {
   "display_name": "Python 3 (ipykernel)",
   "language": "python",
   "name": "python3"
  },
  "language_info": {
   "codemirror_mode": {
    "name": "ipython",
    "version": 3
   },
   "file_extension": ".py",
   "mimetype": "text/x-python",
   "name": "python",
   "nbconvert_exporter": "python",
   "pygments_lexer": "ipython3",
   "version": "3.9.7"
  }
 },
 "nbformat": 4,
 "nbformat_minor": 2
}
