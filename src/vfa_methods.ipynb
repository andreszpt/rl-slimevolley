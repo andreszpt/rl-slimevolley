{
 "cells": [
  {
   "cell_type": "markdown",
   "metadata": {},
   "source": [
    "## Use of VFA methods\n",
    "The goal of this notebook is to show if it is possible to use VFA methods in the Slimevolley gym environment."
   ]
  },
  {
   "cell_type": "code",
   "execution_count": 1,
   "metadata": {},
   "outputs": [],
   "source": [
    "from os.path import join\n",
    "from slime import Slime\n",
    "import pandas as pd\n",
    "import numpy as np\n",
    "import gym\n",
    "import slimevolleygym\n",
    "from algorithms import *\n",
    "\n",
    "# Define our input folders and output files\n",
    "DATADIR = join('..', 'data')"
   ]
  },
  {
   "cell_type": "markdown",
   "metadata": {},
   "source": [
    "We get the csv file in which we saved the information of our centroids. In this case, we will use the 50K file."
   ]
  },
  {
   "cell_type": "code",
   "execution_count": 2,
   "metadata": {},
   "outputs": [],
   "source": [
    "centroids = pd.read_csv(join(DATADIR, 'c_50_mix.csv'))"
   ]
  },
  {
   "cell_type": "markdown",
   "metadata": {},
   "source": [
    "We create the definition of the function for the feature vector, which is encapsulated in a Featurizer class."
   ]
  },
  {
   "cell_type": "code",
   "execution_count": 3,
   "metadata": {},
   "outputs": [],
   "source": [
    "slime_env = gym.make('SlimeVolley-v0')"
   ]
  },
  {
   "cell_type": "code",
   "execution_count": 4,
   "metadata": {},
   "outputs": [],
   "source": [
    "featurizer = Featurizer(slime_env.observation_space, np.array(centroids))"
   ]
  },
  {
   "cell_type": "markdown",
   "metadata": {},
   "source": [
    "### 50K centroids"
   ]
  },
  {
   "cell_type": "code",
   "execution_count": 5,
   "metadata": {},
   "outputs": [
    {
     "ename": "",
     "evalue": "",
     "output_type": "error",
     "traceback": [
      "\u001b[1;31mCanceled future for execute_request message before replies were done"
     ]
    },
    {
     "ename": "",
     "evalue": "",
     "output_type": "error",
     "traceback": [
      "\u001b[1;31mThe Kernel crashed while executing code in the the current cell or a previous cell. Please review the code in the cell(s) to identify a possible cause of the failure. Click <a href='https://aka.ms/vscodeJupyterKernelCrash'>here</a> for more info. View Jupyter <a href='command:jupyter.viewOutput'>log</a> for further details."
     ]
    }
   ],
   "source": [
    "q = LambdaValueFunction(featurizer, slime_env.action_space.n, 0.5)\n",
    "slime_q, slime_history, slime_history_average = sarsa_lambda(slime_env, q, 200, 1000, epsilon = 0.01) # alpha and epsilon values by default"
   ]
  },
  {
   "cell_type": "code",
   "execution_count": 63,
   "metadata": {},
   "outputs": [
    {
     "data": {
      "image/png": "[encoded data removed]",
      "text/plain": [
       "<Figure size 432x288 with 1 Axes>"
      ]
     },
     "metadata": {
      "needs_background": "light"
     },
     "output_type": "display_data"
    }
   ],
   "source": [
    "plot_history(slime_history, slime_history_average)"
   ]
  },
  {
   "cell_type": "code",
   "execution_count": 15,
   "metadata": {},
   "outputs": [
    {
     "name": "stdout",
     "output_type": "stream",
     "text": [
      "t = 50\n",
      "t = 100\n",
      "t = 150\n",
      "t = 200\n",
      "t = 250\n",
      "t = 300\n",
      "t = 350\n",
      "t = 400\n",
      "t = 450\n",
      "t = 500\n",
      "t = 550\n",
      "t = 600\n",
      "t = 650\n",
      "t = 700\n",
      "t = 750\n",
      "t = 800\n",
      "t = 850\n",
      "t = 900\n",
      "t = 950\n",
      "t = 1000\n",
      "t = 1050\n",
      "t = 1100\n",
      "t = 1150\n",
      "t = 1200\n",
      "t = 1250\n",
      "episodio 2: alpha = 0.001, beta = 0.005, retorno medio = -0.259766122997451\n",
      "t = 1300\n",
      "t = 1350\n",
      "t = 1400\n",
      "t = 1450\n",
      "t = 1500\n",
      "t = 1550\n",
      "t = 1600\n",
      "t = 1650\n",
      "t = 1700\n",
      "t = 1750\n",
      "t = 1800\n",
      "t = 1850\n",
      "t = 1900\n",
      "t = 1950\n",
      "t = 2000\n",
      "t = 2050\n",
      "t = 2100\n",
      "t = 2150\n",
      "t = 2200\n",
      "t = 2250\n",
      "episodio 4: alpha = 0.001, beta = 0.005, retorno medio = -0.2000035909863384\n",
      "t = 2300\n",
      "t = 2350\n",
      "t = 2400\n",
      "t = 2450\n",
      "t = 2500\n",
      "t = 2550\n",
      "t = 2600\n",
      "t = 2650\n",
      "t = 2700\n",
      "t = 2750\n",
      "t = 2800\n",
      "t = 2850\n",
      "t = 2900\n",
      "t = 2950\n",
      "t = 3000\n",
      "t = 3050\n",
      "t = 3100\n",
      "t = 3150\n",
      "t = 3200\n",
      "t = 3250\n",
      "t = 3300\n",
      "t = 3350\n",
      "t = 3400\n",
      "episodio 6: alpha = 0.001, beta = 0.005, retorno medio = -0.2151334590276119\n",
      "t = 3450\n",
      "t = 3500\n",
      "t = 3550\n",
      "t = 3600\n",
      "t = 3650\n",
      "t = 3700\n",
      "t = 3750\n",
      "t = 3800\n",
      "t = 3850\n",
      "t = 3900\n",
      "t = 3950\n",
      "t = 4000\n",
      "t = 4050\n",
      "t = 4100\n",
      "t = 4150\n",
      "t = 4200\n",
      "t = 4250\n",
      "t = 4300\n",
      "t = 4350\n",
      "t = 4400\n",
      "t = 4450\n",
      "episodio 8: alpha = 0.001, beta = 0.005, retorno medio = -0.22306860683385493\n",
      "t = 4500\n",
      "t = 4550\n",
      "t = 4600\n",
      "t = 4650\n",
      "t = 4700\n",
      "t = 4750\n",
      "t = 4800\n",
      "t = 4850\n",
      "t = 4900\n",
      "t = 4950\n",
      "t = 5000\n",
      "t = 5050\n",
      "t = 5100\n",
      "t = 5150\n",
      "t = 5200\n",
      "t = 5250\n",
      "t = 5300\n",
      "t = 5350\n",
      "t = 5400\n",
      "t = 5450\n",
      "t = 5500\n",
      "t = 5550\n",
      "t = 5600\n",
      "t = 5650\n",
      "t = 5700\n",
      "t = 5750\n",
      "episodio 10: alpha = 0.001, beta = 0.005, retorno medio = -0.18928551197490073\n",
      "t = 5800\n",
      "t = 5850\n",
      "t = 5900\n",
      "t = 5950\n",
      "t = 6000\n",
      "t = 6050\n",
      "t = 6100\n",
      "t = 6150\n",
      "t = 6200\n",
      "t = 6250\n",
      "t = 6300\n",
      "t = 6350\n",
      "t = 6400\n",
      "t = 6450\n",
      "t = 6500\n",
      "t = 6550\n",
      "t = 6600\n",
      "t = 6650\n",
      "t = 6700\n",
      "t = 6750\n",
      "t = 6800\n",
      "t = 6850\n",
      "t = 6900\n",
      "t = 6950\n",
      "t = 7000\n",
      "t = 7050\n",
      "episodio 12: alpha = 0.001, beta = 0.005, retorno medio = -0.18415446156250861\n",
      "t = 7100\n",
      "t = 7150\n",
      "t = 7200\n",
      "t = 7250\n",
      "t = 7300\n",
      "t = 7350\n",
      "t = 7400\n",
      "t = 7450\n",
      "t = 7500\n",
      "t = 7550\n",
      "t = 7600\n",
      "t = 7650\n",
      "t = 7700\n",
      "t = 7750\n",
      "t = 7800\n",
      "t = 7850\n",
      "t = 7900\n",
      "t = 7950\n",
      "t = 8000\n",
      "t = 8050\n",
      "t = 8100\n",
      "t = 8150\n",
      "t = 8200\n",
      "t = 8250\n",
      "t = 8300\n",
      "episodio 14: alpha = 0.001, beta = 0.005, retorno medio = -0.190554992738826\n",
      "t = 8350\n",
      "t = 8400\n",
      "t = 8450\n",
      "t = 8500\n",
      "t = 8550\n",
      "t = 8600\n",
      "t = 8650\n",
      "t = 8700\n",
      "t = 8750\n",
      "t = 8800\n",
      "t = 8850\n",
      "t = 8900\n",
      "t = 8950\n",
      "t = 9000\n",
      "t = 9050\n",
      "t = 9100\n",
      "t = 9150\n",
      "t = 9200\n",
      "t = 9250\n",
      "t = 9300\n",
      "t = 9350\n",
      "t = 9400\n",
      "t = 9450\n",
      "t = 9500\n",
      "t = 9550\n",
      "t = 9600\n",
      "t = 9650\n",
      "t = 9700\n",
      "episodio 16: alpha = 0.001, beta = 0.005, retorno medio = -0.17676446415905347\n",
      "t = 9750\n",
      "t = 9800\n",
      "t = 9850\n",
      "t = 9900\n",
      "t = 9950\n",
      "t = 10000\n",
      "t = 10050\n",
      "t = 10100\n",
      "t = 10150\n",
      "t = 10200\n",
      "t = 10250\n",
      "t = 10300\n"
     ]
    }
   ],
   "source": [
    "alpha = 0.001\n",
    "beta = 0.005\n",
    "v = ValueFunctionRB(featurizer)\n",
    "pi = PolicyEstimator(featurizer, slime_env.action_space.n)\n",
    "slime_pi, slime_history_b, slime_average_history_b = reinforce_baseline(slime_env, pi, v, 1500, 10000,\n",
    "                                                                         alpha, beta, gamma = 0.98)"
   ]
  },
  {
   "cell_type": "code",
   "execution_count": 16,
   "metadata": {},
   "outputs": [
    {
     "data": {
      "image/png": "[encoded data removed]",
      "text/plain": [
       "<Figure size 432x288 with 1 Axes>"
      ]
     },
     "metadata": {
      "needs_background": "light"
     },
     "output_type": "display_data"
    }
   ],
   "source": [
    "ax = plt.subplot(111)\n",
    "plt.plot(slime_history_b, label=\"retorno por episodio\")\n",
    "plt.plot(slime_average_history_b, label=\"retorno medio por episodio\")\n",
    "plt.ylabel('Retorno', size=10)\n",
    "ax.legend(loc='lower right')\n",
    "plt.grid()\n",
    "plt.show()"
   ]
  },
  {
   "cell_type": "code",
   "execution_count": 17,
   "metadata": {},
   "outputs": [
    {
     "ename": "KeyboardInterrupt",
     "evalue": "",
     "output_type": "error",
     "traceback": [
      "\u001b[1;31m---------------------------------------------------------------------------\u001b[0m",
      "\u001b[1;31mKeyboardInterrupt\u001b[0m                         Traceback (most recent call last)",
      "\u001b[1;32m~\\AppData\\Local\\Temp/ipykernel_11560/1815763105.py\u001b[0m in \u001b[0;36m<module>\u001b[1;34m\u001b[0m\n\u001b[0;32m      5\u001b[0m     \u001b[0maction\u001b[0m \u001b[1;33m=\u001b[0m \u001b[0mslime_pi\u001b[0m\u001b[1;33m[\u001b[0m\u001b[0mS\u001b[0m\u001b[1;33m]\u001b[0m\u001b[1;33m\u001b[0m\u001b[1;33m\u001b[0m\u001b[0m\n\u001b[0;32m      6\u001b[0m     \u001b[0mobs\u001b[0m\u001b[1;33m,\u001b[0m \u001b[0mreward\u001b[0m\u001b[1;33m,\u001b[0m \u001b[0mdone\u001b[0m\u001b[1;33m,\u001b[0m \u001b[0minfo\u001b[0m \u001b[1;33m=\u001b[0m \u001b[0menv\u001b[0m\u001b[1;33m.\u001b[0m\u001b[0mstep\u001b[0m\u001b[1;33m(\u001b[0m\u001b[0maction\u001b[0m\u001b[1;33m)\u001b[0m\u001b[1;33m\u001b[0m\u001b[1;33m\u001b[0m\u001b[0m\n\u001b[1;32m----> 7\u001b[1;33m     \u001b[0menv\u001b[0m\u001b[1;33m.\u001b[0m\u001b[0mrender\u001b[0m\u001b[1;33m(\u001b[0m\u001b[1;33m)\u001b[0m\u001b[1;33m\u001b[0m\u001b[1;33m\u001b[0m\u001b[0m\n\u001b[0m",
      "\u001b[1;32mc:\\Users\\Andres\\anaconda3\\envs\\rl\\lib\\site-packages\\slimevolleygym\\slimevolley.py\u001b[0m in \u001b[0;36mrender\u001b[1;34m(self, mode, close)\u001b[0m\n\u001b[0;32m    866\u001b[0m \u001b[1;33m\u001b[0m\u001b[0m\n\u001b[0;32m    867\u001b[0m       \u001b[0mself\u001b[0m\u001b[1;33m.\u001b[0m\u001b[0mgame\u001b[0m\u001b[1;33m.\u001b[0m\u001b[0mdisplay\u001b[0m\u001b[1;33m(\u001b[0m\u001b[0mself\u001b[0m\u001b[1;33m.\u001b[0m\u001b[0mviewer\u001b[0m\u001b[1;33m)\u001b[0m\u001b[1;33m\u001b[0m\u001b[1;33m\u001b[0m\u001b[0m\n\u001b[1;32m--> 868\u001b[1;33m       \u001b[1;32mreturn\u001b[0m \u001b[0mself\u001b[0m\u001b[1;33m.\u001b[0m\u001b[0mviewer\u001b[0m\u001b[1;33m.\u001b[0m\u001b[0mrender\u001b[0m\u001b[1;33m(\u001b[0m\u001b[0mreturn_rgb_array\u001b[0m \u001b[1;33m=\u001b[0m \u001b[0mmode\u001b[0m\u001b[1;33m==\u001b[0m\u001b[1;34m'rgb_array'\u001b[0m\u001b[1;33m)\u001b[0m\u001b[1;33m\u001b[0m\u001b[1;33m\u001b[0m\u001b[0m\n\u001b[0m\u001b[0;32m    869\u001b[0m \u001b[1;33m\u001b[0m\u001b[0m\n\u001b[0;32m    870\u001b[0m   \u001b[1;32mdef\u001b[0m \u001b[0mget_action_meanings\u001b[0m\u001b[1;33m(\u001b[0m\u001b[0mself\u001b[0m\u001b[1;33m)\u001b[0m\u001b[1;33m:\u001b[0m\u001b[1;33m\u001b[0m\u001b[1;33m\u001b[0m\u001b[0m\n",
      "\u001b[1;32mc:\\Users\\Andres\\anaconda3\\envs\\rl\\lib\\site-packages\\gym\\envs\\classic_control\\rendering.py\u001b[0m in \u001b[0;36mrender\u001b[1;34m(self, return_rgb_array)\u001b[0m\n\u001b[0;32m    128\u001b[0m             \u001b[0mgeom\u001b[0m\u001b[1;33m.\u001b[0m\u001b[0mrender\u001b[0m\u001b[1;33m(\u001b[0m\u001b[1;33m)\u001b[0m\u001b[1;33m\u001b[0m\u001b[1;33m\u001b[0m\u001b[0m\n\u001b[0;32m    129\u001b[0m         \u001b[1;32mfor\u001b[0m \u001b[0mgeom\u001b[0m \u001b[1;32min\u001b[0m \u001b[0mself\u001b[0m\u001b[1;33m.\u001b[0m\u001b[0monetime_geoms\u001b[0m\u001b[1;33m:\u001b[0m\u001b[1;33m\u001b[0m\u001b[1;33m\u001b[0m\u001b[0m\n\u001b[1;32m--> 130\u001b[1;33m             \u001b[0mgeom\u001b[0m\u001b[1;33m.\u001b[0m\u001b[0mrender\u001b[0m\u001b[1;33m(\u001b[0m\u001b[1;33m)\u001b[0m\u001b[1;33m\u001b[0m\u001b[1;33m\u001b[0m\u001b[0m\n\u001b[0m\u001b[0;32m    131\u001b[0m         \u001b[0mself\u001b[0m\u001b[1;33m.\u001b[0m\u001b[0mtransform\u001b[0m\u001b[1;33m.\u001b[0m\u001b[0mdisable\u001b[0m\u001b[1;33m(\u001b[0m\u001b[1;33m)\u001b[0m\u001b[1;33m\u001b[0m\u001b[1;33m\u001b[0m\u001b[0m\n\u001b[0;32m    132\u001b[0m         \u001b[0marr\u001b[0m \u001b[1;33m=\u001b[0m \u001b[1;32mNone\u001b[0m\u001b[1;33m\u001b[0m\u001b[1;33m\u001b[0m\u001b[0m\n",
      "\u001b[1;32mc:\\Users\\Andres\\anaconda3\\envs\\rl\\lib\\site-packages\\gym\\envs\\classic_control\\rendering.py\u001b[0m in \u001b[0;36mrender\u001b[1;34m(self)\u001b[0m\n\u001b[0;32m    201\u001b[0m         \u001b[1;32mfor\u001b[0m \u001b[0mattr\u001b[0m \u001b[1;32min\u001b[0m \u001b[0mreversed\u001b[0m\u001b[1;33m(\u001b[0m\u001b[0mself\u001b[0m\u001b[1;33m.\u001b[0m\u001b[0mattrs\u001b[0m\u001b[1;33m)\u001b[0m\u001b[1;33m:\u001b[0m\u001b[1;33m\u001b[0m\u001b[1;33m\u001b[0m\u001b[0m\n\u001b[0;32m    202\u001b[0m             \u001b[0mattr\u001b[0m\u001b[1;33m.\u001b[0m\u001b[0menable\u001b[0m\u001b[1;33m(\u001b[0m\u001b[1;33m)\u001b[0m\u001b[1;33m\u001b[0m\u001b[1;33m\u001b[0m\u001b[0m\n\u001b[1;32m--> 203\u001b[1;33m         \u001b[0mself\u001b[0m\u001b[1;33m.\u001b[0m\u001b[0mrender1\u001b[0m\u001b[1;33m(\u001b[0m\u001b[1;33m)\u001b[0m\u001b[1;33m\u001b[0m\u001b[1;33m\u001b[0m\u001b[0m\n\u001b[0m\u001b[0;32m    204\u001b[0m         \u001b[1;32mfor\u001b[0m \u001b[0mattr\u001b[0m \u001b[1;32min\u001b[0m \u001b[0mself\u001b[0m\u001b[1;33m.\u001b[0m\u001b[0mattrs\u001b[0m\u001b[1;33m:\u001b[0m\u001b[1;33m\u001b[0m\u001b[1;33m\u001b[0m\u001b[0m\n\u001b[0;32m    205\u001b[0m             \u001b[0mattr\u001b[0m\u001b[1;33m.\u001b[0m\u001b[0mdisable\u001b[0m\u001b[1;33m(\u001b[0m\u001b[1;33m)\u001b[0m\u001b[1;33m\u001b[0m\u001b[1;33m\u001b[0m\u001b[0m\n",
      "\u001b[1;32mc:\\Users\\Andres\\anaconda3\\envs\\rl\\lib\\site-packages\\gym\\envs\\classic_control\\rendering.py\u001b[0m in \u001b[0;36mrender1\u001b[1;34m(self)\u001b[0m\n\u001b[0;32m    301\u001b[0m             \u001b[0mglBegin\u001b[0m\u001b[1;33m(\u001b[0m\u001b[0mGL_TRIANGLES\u001b[0m\u001b[1;33m)\u001b[0m\u001b[1;33m\u001b[0m\u001b[1;33m\u001b[0m\u001b[0m\n\u001b[0;32m    302\u001b[0m         \u001b[1;32mfor\u001b[0m \u001b[0mp\u001b[0m \u001b[1;32min\u001b[0m \u001b[0mself\u001b[0m\u001b[1;33m.\u001b[0m\u001b[0mv\u001b[0m\u001b[1;33m:\u001b[0m\u001b[1;33m\u001b[0m\u001b[1;33m\u001b[0m\u001b[0m\n\u001b[1;32m--> 303\u001b[1;33m             \u001b[0mglVertex3f\u001b[0m\u001b[1;33m(\u001b[0m\u001b[0mp\u001b[0m\u001b[1;33m[\u001b[0m\u001b[1;36m0\u001b[0m\u001b[1;33m]\u001b[0m\u001b[1;33m,\u001b[0m \u001b[0mp\u001b[0m\u001b[1;33m[\u001b[0m\u001b[1;36m1\u001b[0m\u001b[1;33m]\u001b[0m\u001b[1;33m,\u001b[0m \u001b[1;36m0\u001b[0m\u001b[1;33m)\u001b[0m  \u001b[1;31m# draw each vertex\u001b[0m\u001b[1;33m\u001b[0m\u001b[1;33m\u001b[0m\u001b[0m\n\u001b[0m\u001b[0;32m    304\u001b[0m         \u001b[0mglEnd\u001b[0m\u001b[1;33m(\u001b[0m\u001b[1;33m)\u001b[0m\u001b[1;33m\u001b[0m\u001b[1;33m\u001b[0m\u001b[0m\n\u001b[0;32m    305\u001b[0m \u001b[1;33m\u001b[0m\u001b[0m\n",
      "\u001b[1;32mc:\\Users\\Andres\\anaconda3\\envs\\rl\\lib\\site-packages\\pyglet\\gl\\lib.py\u001b[0m in \u001b[0;36merrcheck\u001b[1;34m(result, func, arguments)\u001b[0m\n\u001b[0;32m     85\u001b[0m \u001b[1;33m\u001b[0m\u001b[0m\n\u001b[0;32m     86\u001b[0m \u001b[1;33m\u001b[0m\u001b[0m\n\u001b[1;32m---> 87\u001b[1;33m \u001b[1;32mdef\u001b[0m \u001b[0merrcheck\u001b[0m\u001b[1;33m(\u001b[0m\u001b[0mresult\u001b[0m\u001b[1;33m,\u001b[0m \u001b[0mfunc\u001b[0m\u001b[1;33m,\u001b[0m \u001b[0marguments\u001b[0m\u001b[1;33m)\u001b[0m\u001b[1;33m:\u001b[0m\u001b[1;33m\u001b[0m\u001b[1;33m\u001b[0m\u001b[0m\n\u001b[0m\u001b[0;32m     88\u001b[0m     \u001b[1;32mif\u001b[0m \u001b[0m_debug_gl_trace\u001b[0m\u001b[1;33m:\u001b[0m\u001b[1;33m\u001b[0m\u001b[1;33m\u001b[0m\u001b[0m\n\u001b[0;32m     89\u001b[0m         \u001b[1;32mtry\u001b[0m\u001b[1;33m:\u001b[0m\u001b[1;33m\u001b[0m\u001b[1;33m\u001b[0m\u001b[0m\n",
      "\u001b[1;31mKeyboardInterrupt\u001b[0m: "
     ]
    },
    {
     "ename": "",
     "evalue": "",
     "output_type": "error",
     "traceback": [
      "\u001b[1;31mThe Kernel crashed while executing code in the the current cell or a previous cell. Please review the code in the cell(s) to identify a possible cause of the failure. Click <a href='https://aka.ms/vscodeJupyterKernelCrash'>here</a> for more info. View Jupyter <a href='command:jupyter.viewOutput'>log</a> for further details."
     ]
    }
   ],
   "source": [
    "env = gym.make('SlimeVolley-v0')\n",
    "S = env.reset()\n",
    "G = 0     \n",
    "while True:\n",
    "    action = slime_pi[S]\n",
    "    obs, reward, done, info = env.step(action)\n",
    "    env.render()"
   ]
  }
 ],
 "metadata": {
  "interpreter": {
   "hash": "6de933cdbeffafdc58b9d7102d87d9f2f2cbbd5b3fcee181d2b6dc29b80774eb"
  },
  "kernelspec": {
   "display_name": "Python 3 (ipykernel)",
   "language": "python",
   "name": "python3"
  },
  "language_info": {
   "codemirror_mode": {
    "name": "ipython",
    "version": 3
   },
   "file_extension": ".py",
   "mimetype": "text/x-python",
   "name": "python",
   "nbconvert_exporter": "python",
   "pygments_lexer": "ipython3",
   "version": "3.9.7"
  }
 },
 "nbformat": 4,
 "nbformat_minor": 2
}
