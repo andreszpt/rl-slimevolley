{
 "cells": [
  {
   "cell_type": "markdown",
   "metadata": {},
   "source": [
    "## Time measurement of algorithms execution"
   ]
  },
  {
   "cell_type": "code",
   "execution_count": 44,
   "metadata": {},
   "outputs": [],
   "source": [
    "from os.path import join\n",
    "import pandas as pd\n",
    "import numpy as np\n",
    "from matplotlib import pyplot as plt\n",
    "import gym\n",
    "import slimevolleygym\n",
    "from slimevolleygym import SurvivalRewardEnv\n",
    "from algorithms import *\n",
    "\n",
    "from stable_baselines3.common.monitor import Monitor\n",
    "from stable_baselines3.common.callbacks import EvalCallback\n",
    "from stable_baselines3 import A2C, PPO, DQN, SAC\n",
    "\n",
    "import time\n",
    "\n",
    "plt.style.use('seaborn')\n",
    "\n",
    "# Define our input folders and output files\n",
    "DATADIR = join('..', 'data')\n",
    "FIGDIR = join('..', 'figures')"
   ]
  },
  {
   "cell_type": "markdown",
   "metadata": {},
   "source": [
    "### Classic algorithms"
   ]
  },
  {
   "cell_type": "code",
   "execution_count": 2,
   "metadata": {},
   "outputs": [],
   "source": [
    "class ReducedDimension(gym.ObservationWrapper):\n",
    "    def __init__(self, env):\n",
    "        super().__init__(env)\n",
    "        self._observation_space = gym.spaces.Box(shape=(8,), low=-2.0, high=2.0)\n",
    "    def observation(self, obs):\n",
    "        return obs[0:8]\n",
    "\n",
    "slime_env = SurvivalRewardEnv(ReducedDimension(gym.make('SlimeVolley-v0')))"
   ]
  },
  {
   "cell_type": "code",
   "execution_count": 3,
   "metadata": {},
   "outputs": [],
   "source": [
    "class BoundFeaturizer:\n",
    "    def __init__(self, observation_space, partitions = 10, sigma = 0.1, bound = 5.0):\n",
    "        self.n_dim = len(observation_space.low)\n",
    "        self.sigma = sigma\n",
    "        offset, scale_factor = [], []\n",
    "        for i in range(self.n_dim):\n",
    "            lower_bound = max(-1*bound, observation_space.low[i])\n",
    "            upper_bound = min(bound, observation_space.high[i])\n",
    "            offset.append(-1* lower_bound)\n",
    "            scale_factor.append(1/(upper_bound - lower_bound))\n",
    "        self.offset = np.array(offset, dtype=np.float_)\n",
    "        self.scale_factor = np.array(scale_factor ,dtype=np.float_)\n",
    "        scale = np.linspace(1.0/partitions,1.0,partitions) - 0.5/partitions\n",
    "        self.landmarks = np.array(list(product(scale, repeat=self.n_dim)))\n",
    "        self.n_parameters = partitions**self.n_dim\n",
    "    \n",
    "    def feature_vector(self, s):\n",
    "        s = (s + self.offset) * self.scale_factor\n",
    "        dist = (self.landmarks - s)**2\n",
    "        f = np.exp(-dist.sum(axis=1)/(2*self.sigma**2))\n",
    "        return f\n",
    "    \n",
    "class ClusteringFeaturizer:\n",
    "    def __init__(self, observation_space, centroids, sigma=0.5):\n",
    "        self.n_dim = len(observation_space.low)\n",
    "        self.centroids = np.array(centroids)     \n",
    "        self.sigma = sigma\n",
    "        self.n_parameters = len(self.centroids)\n",
    "        \n",
    "    def feature_vector(self, s):\n",
    "        dist = (self.centroids - np.array(s))**2\n",
    "        x = np.exp(-dist.sum(axis=1)/(2*self.sigma**2))\n",
    "        return x"
   ]
  },
  {
   "cell_type": "code",
   "execution_count": 4,
   "metadata": {},
   "outputs": [],
   "source": [
    "featurizer = BoundFeaturizer(slime_env.observation_space, 3, sigma = 0.2, bound = 2.0)"
   ]
  },
  {
   "cell_type": "code",
   "execution_count": 5,
   "metadata": {},
   "outputs": [],
   "source": [
    "centroids_5k = pd.read_csv(join(DATADIR, 'c_5_mix.csv'))\n",
    "centroids_10k = pd.read_csv(join(DATADIR, 'c_10_mix.csv'))\n",
    "centroids_25k = pd.read_csv(join(DATADIR, 'c_25_mix.csv'))"
   ]
  },
  {
   "cell_type": "code",
   "execution_count": 6,
   "metadata": {},
   "outputs": [],
   "source": [
    "featurizer_5 = ClusteringFeaturizer(slime_env.observation_space, np.array(centroids_5k), sigma=0.3)\n",
    "featurizer_10 = ClusteringFeaturizer(slime_env.observation_space, np.array(centroids_10k), sigma=0.3)\n",
    "featurizer_25 = ClusteringFeaturizer(slime_env.observation_space, np.array(centroids_25k), sigma=0.3)"
   ]
  },
  {
   "cell_type": "markdown",
   "metadata": {},
   "source": [
    "#### SARSA-LAMBDA, BoundFeaturizer"
   ]
  },
  {
   "cell_type": "code",
   "execution_count": null,
   "metadata": {},
   "outputs": [],
   "source": [
    "start_time = time.time()\n",
    "q = LambdaValueFunction(featurizer, slime_env.action_space.n, 0.99)\n",
    "slime_q, slime_rewards, slime_lengths, best_params = sarsa_lambda(slime_env, q, 100_000,\n",
    "                                                     gamma=1, epsilon=0.1, alpha=0.1)\n",
    "end_time = time.time()"
   ]
  },
  {
   "cell_type": "code",
   "execution_count": 8,
   "metadata": {},
   "outputs": [
    {
     "name": "stdout",
     "output_type": "stream",
     "text": [
      "--- Elapsed time: 263.8371510505676 seconds ---\n"
     ]
    }
   ],
   "source": [
    "t_sl_bound = end_time - start_time\n",
    "print(\"--- Elapsed time: %s seconds ---\" % (t_sl_bound))"
   ]
  },
  {
   "cell_type": "markdown",
   "metadata": {},
   "source": [
    "#### SARSA-LAMBDA, ClusteringFeaturizer (10K)"
   ]
  },
  {
   "cell_type": "code",
   "execution_count": null,
   "metadata": {},
   "outputs": [],
   "source": [
    "start_time = time.time()\n",
    "q = LambdaValueFunction(featurizer_10, slime_env.action_space.n, 0.99)\n",
    "slime_q, slime_rewards, slime_lengths, best_params = sarsa_lambda(slime_env, q, 100_000,\n",
    "                                                     gamma=1, epsilon=0.1, alpha=0.1)\n",
    "end_time = time.time()"
   ]
  },
  {
   "cell_type": "code",
   "execution_count": 10,
   "metadata": {},
   "outputs": [
    {
     "name": "stdout",
     "output_type": "stream",
     "text": [
      "--- Elapsed time: 312.4059088230133 seconds ---\n"
     ]
    }
   ],
   "source": [
    "t_sl_clust_10 = end_time - start_time\n",
    "print(\"--- Elapsed time: %s seconds ---\" % (t_sl_clust_10))"
   ]
  },
  {
   "cell_type": "markdown",
   "metadata": {},
   "source": [
    "#### AC+Trazas, BoundFeaturizer"
   ]
  },
  {
   "cell_type": "code",
   "execution_count": null,
   "metadata": {},
   "outputs": [],
   "source": [
    "start_time = time.time()\n",
    "pi = LambdaPolicyEstimatorAC(featurizer, slime_env.action_space.n, L=0.5)   # L_actor\n",
    "v = LambdaValueFunctionAC(featurizer, L=0.5)     #L_critic\n",
    "slime_pi, slime_rewards, slime_lengths, best_p = actor_critic_lambda(slime_env, pi, v, 100_000, \\\n",
    "                                                                alpha=0.0005, beta=0.0025, gamma = 1)\n",
    "end_time = time.time()"
   ]
  },
  {
   "cell_type": "code",
   "execution_count": 12,
   "metadata": {},
   "outputs": [
    {
     "name": "stdout",
     "output_type": "stream",
     "text": [
      "--- Elapsed time: 228.0472776889801 seconds ---\n"
     ]
    }
   ],
   "source": [
    "t_ac_bound = end_time - start_time\n",
    "print(\"--- Elapsed time: %s seconds ---\" % (t_ac_bound))"
   ]
  },
  {
   "cell_type": "markdown",
   "metadata": {},
   "source": [
    "#### AC+Trazas, ClusteringFeaturizer (5K)"
   ]
  },
  {
   "cell_type": "code",
   "execution_count": null,
   "metadata": {},
   "outputs": [],
   "source": [
    "start_time = time.time()\n",
    "pi = LambdaPolicyEstimatorAC(featurizer_5, slime_env.action_space.n, L=0.5)   # L_actor\n",
    "v = LambdaValueFunctionAC(featurizer_5, L=0.5)     #L_critic\n",
    "slime_pi, slime_rewards, slime_lengths, best_p = actor_critic_lambda(slime_env, pi, v, 100_000, \\\n",
    "                                                                alpha=0.0005, beta=0.0025, gamma = 1)\n",
    "end_time = time.time()"
   ]
  },
  {
   "cell_type": "code",
   "execution_count": 14,
   "metadata": {},
   "outputs": [
    {
     "name": "stdout",
     "output_type": "stream",
     "text": [
      "--- Elapsed time: 118.28214430809021 seconds ---\n"
     ]
    }
   ],
   "source": [
    "t_ac_clust_5 = end_time - start_time\n",
    "print(\"--- Elapsed time: %s seconds ---\" % (t_ac_clust_5))"
   ]
  },
  {
   "cell_type": "markdown",
   "metadata": {},
   "source": [
    "#### AC+Trazas, ClusteringFeaturizer (10K)"
   ]
  },
  {
   "cell_type": "code",
   "execution_count": null,
   "metadata": {},
   "outputs": [],
   "source": [
    "start_time = time.time()\n",
    "pi = LambdaPolicyEstimatorAC(featurizer_10, slime_env.action_space.n, L=0.5)   # L_actor\n",
    "v = LambdaValueFunctionAC(featurizer_10, L=0.5)     #L_critic\n",
    "slime_pi, slime_rewards, slime_lengths, best_p = actor_critic_lambda(slime_env, pi, v, 100_000, \\\n",
    "                                                                alpha=0.0005, beta=0.0025, gamma = 1)\n",
    "end_time = time.time()"
   ]
  },
  {
   "cell_type": "code",
   "execution_count": 16,
   "metadata": {},
   "outputs": [
    {
     "name": "stdout",
     "output_type": "stream",
     "text": [
      "--- Elapsed time: 190.5457158088684 seconds ---\n"
     ]
    }
   ],
   "source": [
    "t_ac_clust_10 = end_time - start_time\n",
    "print(\"--- Elapsed time: %s seconds ---\" % (t_ac_clust_10))"
   ]
  },
  {
   "cell_type": "code",
   "execution_count": 54,
   "metadata": {},
   "outputs": [
    {
     "data": {
      "image/png": "[encoded data removed]",
      "text/plain": [
       "<Figure size 864x576 with 1 Axes>"
      ]
     },
     "metadata": {},
     "output_type": "display_data"
    }
   ],
   "source": [
    "times_classic = [t_sl_bound, t_sl_clust_10, t_ac_bound, t_ac_clust_10, t_ac_clust_5]\n",
    "fig, ax = plt.subplots(figsize=(12, 8))\n",
    "bars = ax.bar(['SARSA$(\\lambda)$ Bound', 'SARSA$(\\lambda)$ Clustering (10K)', 'AC+traces Bound', 'AC+traces Clustering (10K)', 'AC+traces Clustering (5K)'],\n",
    "       times_classic)\n",
    "ax.bar_label(bars)\n",
    "ax.set_title('Time of classic algorithms execution')\n",
    "ax.set_xlabel('Tested algorithm')\n",
    "ax.set_ylabel('Time (s)');\n",
    "\n",
    "plt.savefig(join(FIGDIR, 'classic', 'Time of classic algorithms execution.png'), dpi=300, bbox_inches='tight')"
   ]
  },
  {
   "cell_type": "markdown",
   "metadata": {},
   "source": [
    "### Advanced algorithms"
   ]
  },
  {
   "cell_type": "code",
   "execution_count": 17,
   "metadata": {},
   "outputs": [],
   "source": [
    "class DiscreteToBoxWrapper(gym.ActionWrapper):\n",
    "    def __init__(self, env, new_action_set):\n",
    "        super().__init__(env)\n",
    "        self.new_action_set = new_action_set\n",
    "        self.action_space = gym.spaces.Box(low=np.array([0, 1]), high=np.array([1, 5.999]))\n",
    "        \n",
    "    def action(self, box_act):\n",
    "        if box_act[0] < 0.5:\n",
    "            action = self.new_action_set[0]\n",
    "        else:\n",
    "            action = self.new_action_set[int(np.floor(box_act[1]))]\n",
    "        return action\n",
    "    \n",
    "class ReducedDimension(gym.ObservationWrapper):\n",
    "    def __init__(self, env):\n",
    "        super().__init__(env)\n",
    "        self._observation_space = gym.spaces.Box(shape=(8,), low=-2.0, high=2.0)\n",
    "    def observation(self, obs):\n",
    "        return obs[0:8]"
   ]
  },
  {
   "cell_type": "markdown",
   "metadata": {},
   "source": [
    "#### PPO, EvalCallback"
   ]
  },
  {
   "cell_type": "code",
   "execution_count": 18,
   "metadata": {},
   "outputs": [
    {
     "name": "stdout",
     "output_type": "stream",
     "text": [
      "Eval num_timesteps=100000, episode_reward=0.88 +/- 1.09\n",
      "Episode length: 576.90 +/- 94.09\n",
      "New best mean reward!\n"
     ]
    }
   ],
   "source": [
    "start_time = time.time()\n",
    "slime_env = Monitor(env=SurvivalRewardEnv(ReducedDimension(gym.make('SlimeVolley-v0'))))\n",
    "\n",
    "eval_callback = EvalCallback(slime_env,\n",
    "                             eval_freq=100_000,\n",
    "                             n_eval_episodes=100)\n",
    "\n",
    "ppo_model = PPO('MlpPolicy', slime_env, verbose=0)\n",
    "\n",
    "ppo_model.learn(100_000, callback=eval_callback);\n",
    "end_time = time.time()"
   ]
  },
  {
   "cell_type": "code",
   "execution_count": 19,
   "metadata": {},
   "outputs": [
    {
     "name": "stdout",
     "output_type": "stream",
     "text": [
      "--- Elapsed time: 148.22693848609924 seconds ---\n"
     ]
    }
   ],
   "source": [
    "t_ppo_eval = end_time - start_time\n",
    "print(\"--- Elapsed time: %s seconds ---\" % (t_ppo_eval))"
   ]
  },
  {
   "cell_type": "markdown",
   "metadata": {},
   "source": [
    "#### PPO, no EvalCallback"
   ]
  },
  {
   "cell_type": "code",
   "execution_count": 20,
   "metadata": {},
   "outputs": [],
   "source": [
    "start_time = time.time()\n",
    "slime_env = Monitor(env=SurvivalRewardEnv(ReducedDimension(gym.make('SlimeVolley-v0'))))\n",
    "\n",
    "ppo_model = PPO('MlpPolicy', slime_env, verbose=0)\n",
    "\n",
    "ppo_model.learn(100_000);\n",
    "end_time = time.time()"
   ]
  },
  {
   "cell_type": "code",
   "execution_count": 21,
   "metadata": {},
   "outputs": [
    {
     "name": "stdout",
     "output_type": "stream",
     "text": [
      "--- Elapsed time: 132.92537784576416 seconds ---\n"
     ]
    }
   ],
   "source": [
    "t_ppo = end_time - start_time\n",
    "print(\"--- Elapsed time: %s seconds ---\" % (t_ppo))"
   ]
  },
  {
   "cell_type": "markdown",
   "metadata": {},
   "source": [
    "#### DQN"
   ]
  },
  {
   "cell_type": "code",
   "execution_count": null,
   "metadata": {},
   "outputs": [],
   "source": [
    "start_time = time.time()\n",
    "slime_env = Monitor(env=SurvivalRewardEnv(ReducedDimension(gym.make('SlimeVolley-v0'))))\n",
    "\n",
    "dqn_model = DQN('MlpPolicy', slime_env, verbose=1)\n",
    "\n",
    "dqn_model.learn(100_000);\n",
    "end_time = time.time()"
   ]
  },
  {
   "cell_type": "code",
   "execution_count": 23,
   "metadata": {},
   "outputs": [
    {
     "name": "stdout",
     "output_type": "stream",
     "text": [
      "--- Elapsed time: 58.821918964385986 seconds ---\n"
     ]
    }
   ],
   "source": [
    "t_dqn = end_time - start_time\n",
    "print(\"--- Elapsed time: %s seconds ---\" % (t_dqn))"
   ]
  },
  {
   "cell_type": "markdown",
   "metadata": {},
   "source": [
    "#### SAC"
   ]
  },
  {
   "cell_type": "code",
   "execution_count": null,
   "metadata": {},
   "outputs": [],
   "source": [
    "start_time = time.time()\n",
    "action_table = [[0, 0, 0], # NOOP\n",
    "                [1, 0, 0], # LEFT (forward)\n",
    "                [1, 0, 1], # UPLEFT (forward jump)\n",
    "                [0, 0, 1], # UP (jump)\n",
    "                [0, 1, 1], # UPRIGHT (backward jump)\n",
    "                [0, 1, 0]] # RIGHT (backward)\n",
    "\n",
    "\n",
    "slime_env = Monitor(env=SurvivalRewardEnv(DiscreteToBoxWrapper(ReducedDimension(gym.make('SlimeVolley-v0')), action_table)))\n",
    "\n",
    "model = SAC('MlpPolicy', slime_env, verbose=1)\n",
    "\n",
    "model.learn(10_000);\n",
    "end_time = time.time()"
   ]
  },
  {
   "cell_type": "code",
   "execution_count": 25,
   "metadata": {},
   "outputs": [
    {
     "name": "stdout",
     "output_type": "stream",
     "text": [
      "--- Elapsed time: 221.9651234149933 seconds ---\n"
     ]
    }
   ],
   "source": [
    "t_sac = end_time - start_time\n",
    "print(\"--- Elapsed time: %s seconds ---\" % (t_sac))"
   ]
  },
  {
   "cell_type": "code",
   "execution_count": 53,
   "metadata": {},
   "outputs": [
    {
     "data": {
      "image/png": "[encoded data removed]",
      "text/plain": [
       "<Figure size 864x576 with 1 Axes>"
      ]
     },
     "metadata": {},
     "output_type": "display_data"
    }
   ],
   "source": [
    "times_advanced = [t_ppo_eval, t_ppo, t_dqn, t_sac*10]\n",
    "fig, ax = plt.subplots(figsize=(12, 8))\n",
    "bars = ax.bar(['PPO + EvalCallback', 'PPO', 'DQN', 'SAC'], times_advanced)\n",
    "ax.bar_label(bars)\n",
    "ax.set_title('Time of advanced algorithms execution')\n",
    "ax.set_xlabel('Tested algorithm')\n",
    "ax.set_ylabel('Time (s)');\n",
    "\n",
    "plt.savefig(join(FIGDIR, 'advanced', 'Time of advanced algorithms execution.png'), dpi=300, bbox_inches='tight')"
   ]
  }
 ],
 "metadata": {
  "kernelspec": {
   "display_name": "Python 3.9.12 ('rl-slime')",
   "language": "python",
   "name": "python3"
  },
  "language_info": {
   "codemirror_mode": {
    "name": "ipython",
    "version": 3
   },
   "file_extension": ".py",
   "mimetype": "text/x-python",
   "name": "python",
   "nbconvert_exporter": "python",
   "pygments_lexer": "ipython3",
   "version": "3.9.12"
  },
  "orig_nbformat": 4,
  "vscode": {
   "interpreter": {
    "hash": "e355603bb3e395214415bfdd74d2a1c6c523d6c3b6e1d1b2f026a30bb4e7271c"
   }
  }
 },
 "nbformat": 4,
 "nbformat_minor": 2
}
